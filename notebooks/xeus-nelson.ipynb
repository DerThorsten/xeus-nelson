{
 "cells": [
  {
   "cell_type": "markdown",
   "metadata": {},
   "source": [
    "<center>\n",
    "    <h1>nelson kernel based on xeus</h1>\n",
    "</center>"
   ]
  },
  {
   "cell_type": "markdown",
   "metadata": {
    "tags": []
   },
   "source": [
    "# Simple code execution"
   ]
  },
  {
   "cell_type": "code",
   "execution_count": 1,
   "metadata": {},
   "outputs": [
    {
     "data": {
      "text/plain": [
       "\n",
       "a =\n",
       "\n",
       "     3\n",
       "\n"
      ]
     },
     "execution_count": 1,
     "metadata": {},
     "output_type": "execute_result"
    }
   ],
   "source": [
    "a = 3"
   ]
  },
  {
   "cell_type": "code",
   "execution_count": 2,
   "metadata": {},
   "outputs": [
    {
     "data": {
      "text/plain": [
       "\n",
       "Error: \n",
       "Undefined variable: b\n"
      ]
     },
     "execution_count": 2,
     "metadata": {},
     "output_type": "execute_result"
    }
   ],
   "source": [
    "b = b + 6\n"
   ]
  },
  {
   "cell_type": "code",
   "execution_count": 3,
   "metadata": {},
   "outputs": [
    {
     "data": {
      "text/plain": [
       "\n",
       "b =\n",
       "\n",
       "    10\n",
       "\n"
      ]
     },
     "execution_count": 3,
     "metadata": {},
     "output_type": "execute_result"
    }
   ],
   "source": [
    "b = a + 7"
   ]
  },
  {
   "cell_type": "code",
   "execution_count": 4,
   "metadata": {},
   "outputs": [
    {
     "data": {
      "text/plain": [
       "\n",
       "ans =\n",
       "\n",
       "    0.2000    0.4000    0.6000    0.8000    1.0000\n",
       "\n"
      ]
     },
     "execution_count": 4,
     "metadata": {},
     "output_type": "execute_result"
    }
   ],
   "source": [
    "[0.2:0.2:1]"
   ]
  },
  {
   "cell_type": "code",
   "execution_count": 5,
   "metadata": {},
   "outputs": [
    {
     "data": {
      "text/plain": []
     },
     "execution_count": 5,
     "metadata": {},
     "output_type": "execute_result"
    }
   ],
   "source": [
    "[0.2:0.2:1];"
   ]
  },
  {
   "cell_type": "code",
   "execution_count": 6,
   "metadata": {},
   "outputs": [
    {
     "data": {
      "text/plain": [
       "\n",
       "B =\n",
       "\n",
       "  2×2 string array\n",
       "\n",
       "    \"Nelson\"             \"this\"\n",
       "        \"is\"    \"string matrix\"\n",
       "\n"
      ]
     },
     "execution_count": 6,
     "metadata": {},
     "output_type": "execute_result"
    }
   ],
   "source": [
    "B = [\"Nelson\", \"this\"; \"is\", \"string matrix\"]"
   ]
  },
  {
   "cell_type": "code",
   "execution_count": 7,
   "metadata": {},
   "outputs": [
    {
     "data": {
      "text/plain": []
     },
     "execution_count": 7,
     "metadata": {},
     "output_type": "execute_result"
    }
   ],
   "source": [
    "addpath('/home/hind/Downloads/demo')"
   ]
  },
  {
   "cell_type": "code",
   "execution_count": 8,
   "metadata": {},
   "outputs": [
    {
     "data": {
      "text/plain": [
       "\n",
       "B =\n",
       "\n",
       "   385\n",
       "\n",
       "\n",
       "C =\n",
       "\n",
       "     1     2     3     4     5     6     7     8     9    10\n",
       "     2     4     6     8    10    12    14    16    18    20\n",
       "     3     6     9    12    15    18    21    24    27    30\n",
       "     4     8    12    16    20    24    28    32    36    40\n",
       "     5    10    15    20    25    30    35    40    45    50\n",
       "     6    12    18    24    30    36    42    48    54    60\n",
       "     7    14    21    28    35    42    49    56    63    70\n",
       "     8    16    24    32    40    48    56    64    72    80\n",
       "     9    18    27    36    45    54    63    72    81    90\n",
       "    10    20    30    40    50    60    70    80    90   100\n",
       "\n"
      ]
     },
     "execution_count": 8,
     "metadata": {},
     "output_type": "execute_result"
    }
   ],
   "source": [
    "demo"
   ]
  },
  {
   "cell_type": "code",
   "execution_count": 12,
   "metadata": {},
   "outputs": [
    {
     "data": {
      "text/plain": [
       "\n",
       "ans =\n",
       "\n",
       "    18\n",
       "\n"
      ]
     },
     "execution_count": 12,
     "metadata": {},
     "output_type": "execute_result"
    }
   ],
   "source": [
    "my_addition(3, 4)"
   ]
  },
  {
   "cell_type": "code",
   "execution_count": null,
   "metadata": {},
   "outputs": [],
   "source": []
  }
 ],
 "metadata": {
  "kernelspec": {
   "display_name": "nelson 1.0.0 (xnelson)",
   "language": "nelson",
   "name": "xnelson"
  },
  "language_info": {
   "codemirror_mode": "",
   "file_extension": "nelson",
   "mimetype": "text/x-nelsonsrc",
   "name": "nelson",
   "nbconvert_exporter": "",
   "pygments_lexer": "",
   "version": "0.6.11.0"
  }
 },
 "nbformat": 4,
 "nbformat_minor": 4
}
